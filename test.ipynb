{
 "cells": [
  {
   "cell_type": "code",
   "execution_count": 13,
   "metadata": {},
   "outputs": [],
   "source": [
    "import torch\n",
    "import torch.nn as nn\n",
    "from torchvision import transforms,datasets\n",
    "from torch.utils.data import DataLoader, Dataset"
   ]
  },
  {
   "cell_type": "code",
   "execution_count": 21,
   "metadata": {},
   "outputs": [],
   "source": [
    "#data loading\n",
    "transform = transforms.Compose([\n",
    "    transforms.Resize((256,256)),\n",
    "    transforms.ToTensor()\n",
    "])\n",
    "\n",
    "data_path = \"C:/Users/teejs/Documents/Dataset/Real Person Data/asian_fix_no_bg\"\n",
    "\n",
    "train_loader = DataLoader(datasets.ImageFolder(data_path,transform),shuffle=True,batch_size=1,drop_last=True)"
   ]
  },
  {
   "cell_type": "code",
   "execution_count": 22,
   "metadata": {},
   "outputs": [
    {
     "data": {
      "text/plain": [
       "Sequential(\n",
       "  (0): Conv2d(3, 16, kernel_size=(3, 3), stride=(1, 1), padding=(1, 1))\n",
       "  (1): Conv2d(16, 32, kernel_size=(3, 3), stride=(2, 2), padding=(1, 1))\n",
       "  (2): InstanceNorm2d(32, eps=1e-05, momentum=0.1, affine=False, track_running_stats=False)\n",
       "  (3): ReLU(inplace)\n",
       "  (4): Conv2d(32, 64, kernel_size=(3, 3), stride=(2, 2), padding=(1, 1))\n",
       "  (5): InstanceNorm2d(64, eps=1e-05, momentum=0.1, affine=False, track_running_stats=False)\n",
       "  (6): ReLU(inplace)\n",
       "  (7): Conv2d(64, 128, kernel_size=(3, 3), stride=(2, 2), padding=(1, 1))\n",
       "  (8): InstanceNorm2d(128, eps=1e-05, momentum=0.1, affine=False, track_running_stats=False)\n",
       "  (9): ReLU(inplace)\n",
       "  (10): Conv2d(128, 256, kernel_size=(3, 3), stride=(2, 2), padding=(1, 1))\n",
       "  (11): InstanceNorm2d(256, eps=1e-05, momentum=0.1, affine=False, track_running_stats=False)\n",
       "  (12): ReLU(inplace)\n",
       "  (13): Conv2d(256, 512, kernel_size=(3, 3), stride=(2, 2), padding=(1, 1))\n",
       "  (14): InstanceNorm2d(512, eps=1e-05, momentum=0.1, affine=False, track_running_stats=False)\n",
       "  (15): ReLU(inplace)\n",
       "  (16): Conv2d(512, 1024, kernel_size=(3, 3), stride=(2, 2), padding=(1, 1))\n",
       "  (17): InstanceNorm2d(1024, eps=1e-05, momentum=0.1, affine=False, track_running_stats=False)\n",
       "  (18): ReLU(inplace)\n",
       "  (19): Conv2d(1024, 1024, kernel_size=(3, 3), stride=(2, 2), padding=(1, 1))\n",
       "  (20): Conv2d(1024, 1024, kernel_size=(3, 3), stride=(2, 2), padding=(1, 1))\n",
       "  (21): Upsample(size=4, mode=nearest)\n",
       "  (22): Conv2d(1024, 512, kernel_size=(3, 3), stride=(1, 1), padding=(1, 1))\n",
       "  (23): InstanceNorm2d(512, eps=1e-05, momentum=0.1, affine=False, track_running_stats=False)\n",
       "  (24): ReLU(inplace)\n",
       "  (25): Upsample(size=2, mode=nearest)\n",
       "  (26): Conv2d(512, 256, kernel_size=(3, 3), stride=(1, 1), padding=(1, 1))\n",
       "  (27): InstanceNorm2d(256, eps=1e-05, momentum=0.1, affine=False, track_running_stats=False)\n",
       "  (28): ReLU(inplace)\n",
       "  (29): Upsample(size=2, mode=nearest)\n",
       "  (30): Conv2d(256, 128, kernel_size=(3, 3), stride=(1, 1), padding=(1, 1))\n",
       "  (31): InstanceNorm2d(128, eps=1e-05, momentum=0.1, affine=False, track_running_stats=False)\n",
       "  (32): ReLU(inplace)\n",
       "  (33): Upsample(size=2, mode=nearest)\n",
       "  (34): Conv2d(128, 64, kernel_size=(3, 3), stride=(1, 1), padding=(1, 1))\n",
       "  (35): InstanceNorm2d(64, eps=1e-05, momentum=0.1, affine=False, track_running_stats=False)\n",
       "  (36): ReLU(inplace)\n",
       "  (37): Upsample(size=2, mode=nearest)\n",
       "  (38): Conv2d(64, 32, kernel_size=(3, 3), stride=(1, 1), padding=(1, 1))\n",
       "  (39): InstanceNorm2d(32, eps=1e-05, momentum=0.1, affine=False, track_running_stats=False)\n",
       "  (40): ReLU(inplace)\n",
       "  (41): Upsample(size=2, mode=nearest)\n",
       "  (42): Conv2d(32, 16, kernel_size=(3, 3), stride=(1, 1), padding=(1, 1))\n",
       "  (43): InstanceNorm2d(16, eps=1e-05, momentum=0.1, affine=False, track_running_stats=False)\n",
       "  (44): ReLU(inplace)\n",
       "  (45): Upsample(size=2, mode=nearest)\n",
       "  (46): Conv2d(16, 3, kernel_size=(3, 3), stride=(1, 1), padding=(1, 1))\n",
       ")"
      ]
     },
     "execution_count": 22,
     "metadata": {},
     "output_type": "execute_result"
    }
   ],
   "source": [
    "model = []\n",
    "f = 16\n",
    "model += [nn.Conv2d(3,f,kernel_size=3,padding=1)]\n",
    "mult =1\n",
    "for n in range(6):\n",
    "    model += [nn.Conv2d(f*mult,f*mult*2,kernel_size=3,padding=1,stride=2),\n",
    "             nn.InstanceNorm2d(f*mult*2),\n",
    "             nn.ReLU(True)]\n",
    "    mult *= 2\n",
    "model += [\n",
    "    nn.Conv2d(f*mult,f*mult,kernel_size=3,padding=1,stride=2),\n",
    "    nn.Conv2d(f*mult,f*mult,kernel_size=3,padding=1,stride=2),\n",
    "    nn.Upsample(size=4, mode='nearest')\n",
    "]\n",
    "\n",
    "for n in range(6):\n",
    "    model += [nn.Conv2d(f*mult,f*mult//2,kernel_size=3,padding=1),\n",
    "             nn.InstanceNorm2d(f*mult//2),\n",
    "             nn.ReLU(True),\n",
    "             nn.Upsample(size=2,mode='nearest')]\n",
    "    mult = mult//2\n",
    "\n",
    "model += [nn.Conv2d(f,3,kernel_size=3,padding=1)]\n",
    "mymodel = nn.Sequential(*model)\n",
    "mymodel"
   ]
  },
  {
   "cell_type": "code",
   "execution_count": null,
   "metadata": {},
   "outputs": [],
   "source": [
    "# class ResnetBlock(torch.nn.Module):\n",
    "#     def __init__(self,dim):\n",
    "#             super(ResnetLbock,self).__init__()\n",
    "#             conv_block = [\n",
    "#                           nn.Conv2d(dim,dim,kernel_size=3,padding=1),\n",
    "#                           nn.InstanceNorm2d(dim),\n",
    "#                           nn.ReLu(True),\n",
    "#                           nn.Conv2d(dim,dim,kernel_size=3,padding=1),\n",
    "#                           nn.InstanceNorm2d(dim),                          \n",
    "#                           ]            \n",
    "#             self.conv_block = nn.Sequential(*conv_block)\n",
    "#     def forward(self,x):\n",
    "#         out = x + self.conv_block(x)"
   ]
  },
  {
   "cell_type": "code",
   "execution_count": 23,
   "metadata": {},
   "outputs": [],
   "source": [
    "L1_Loss = torch.nn.L1Loss()"
   ]
  },
  {
   "cell_type": "code",
   "execution_count": 24,
   "metadata": {},
   "outputs": [],
   "source": [
    "optim = torch.optim.Adam(mymodel.parameters())"
   ]
  },
  {
   "cell_type": "code",
   "execution_count": null,
   "metadata": {},
   "outputs": [],
   "source": [
    "for i,(img,_) in enumerate(train_loader):\n",
    "    mymodel.train()\n",
    "    out = mymodel(img)\n",
    "    loss = L1_Loss(out,img)\n",
    "    optim.zero_grad()\n",
    "    loss.backward()\n",
    "    optim.step()\n",
    "    if i%100 == 0:\n",
    "        print(loss)"
   ]
  },
  {
   "cell_type": "code",
   "execution_count": null,
   "metadata": {},
   "outputs": [
    {
     "name": "stdout",
     "output_type": "stream",
     "text": [
      "> c:\\users\\teejs\\appdata\\local\\continuum\\anaconda3\\envs\\pytorch\\lib\\site-packages\\torch\\nn\\modules\\conv.py(301)forward()\n",
      "    299     def forward(self, input):\n",
      "    300         return F.conv2d(input, self.weight, self.bias, self.stride,\n",
      "--> 301                         self.padding, self.dilation, self.groups)\n",
      "    302 \n",
      "    303 \n",
      "\n",
      "[tensor([[[[1.0000, 1.0000, 1.0000,  ..., 1.0000, 1.0000, 1.0000],\n",
      "          [1.0000, 1.0000, 1.0000,  ..., 1.0000, 1.0000, 1.0000],\n",
      "          [1.0000, 1.0000, 1.0000,  ..., 1.0000, 1.0000, 1.0000],\n",
      "          ...,\n",
      "          [1.0000, 1.0000, 1.0000,  ..., 0.6314, 0.6471, 0.6588],\n",
      "          [1.0000, 1.0000, 1.0000,  ..., 0.6275, 0.6353, 0.6510],\n",
      "          [1.0000, 1.0000, 1.0000,  ..., 0.6275, 0.6431, 0.6471]],\n",
      "\n",
      "         [[1.0000, 1.0000, 1.0000,  ..., 1.0000, 1.0000, 1.0000],\n",
      "          [1.0000, 1.0000, 1.0000,  ..., 1.0000, 1.0000, 1.0000],\n",
      "          [1.0000, 1.0000, 1.0000,  ..., 1.0000, 1.0000, 1.0000],\n",
      "          ...,\n",
      "          [1.0000, 1.0000, 1.0000,  ..., 0.4431, 0.4510, 0.4627],\n",
      "          [1.0000, 1.0000, 1.0000,  ..., 0.4314, 0.4392, 0.4549],\n",
      "          [1.0000, 1.0000, 1.0000,  ..., 0.4314, 0.4471, 0.4510]],\n",
      "\n",
      "         [[1.0000, 1.0000, 1.0000,  ..., 1.0000, 1.0000, 1.0000],\n",
      "          [1.0000, 1.0000, 1.0000,  ..., 1.0000, 1.0000, 1.0000],\n",
      "          [1.0000, 1.0000, 1.0000,  ..., 1.0000, 1.0000, 1.0000],\n",
      "          ...,\n",
      "          [1.0000, 1.0000, 1.0000,  ..., 0.3137, 0.3216, 0.3333],\n",
      "          [1.0000, 1.0000, 1.0000,  ..., 0.3059, 0.3098, 0.3255],\n",
      "          [1.0000, 1.0000, 1.0000,  ..., 0.3059, 0.3176, 0.3216]]]]), tensor([0])]\n"
     ]
    }
   ],
   "source": [
    "%debug"
   ]
  },
  {
   "cell_type": "code",
   "execution_count": null,
   "metadata": {},
   "outputs": [],
   "source": []
  }
 ],
 "metadata": {
  "kernelspec": {
   "display_name": "Python 3",
   "language": "python",
   "name": "python3"
  },
  "language_info": {
   "codemirror_mode": {
    "name": "ipython",
    "version": 3
   },
   "file_extension": ".py",
   "mimetype": "text/x-python",
   "name": "python",
   "nbconvert_exporter": "python",
   "pygments_lexer": "ipython3",
   "version": "3.5.5"
  }
 },
 "nbformat": 4,
 "nbformat_minor": 2
}
